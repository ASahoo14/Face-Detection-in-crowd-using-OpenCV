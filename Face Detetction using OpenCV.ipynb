{
 "cells": [
  {
   "cell_type": "markdown",
   "metadata": {},
   "source": [
    "<h1>Multiple Face Detection Using OpenCV</h1>"
   ]
  },
  {
   "cell_type": "markdown",
   "metadata": {},
   "source": [
    "In this notebook OpenCV is used to implement Face Detection in crowd using Haar Cascades."
   ]
  },
  {
   "cell_type": "code",
   "execution_count": 8,
   "metadata": {},
   "outputs": [],
   "source": [
    "#Import OpenCV Library\n",
    "import cv2"
   ]
  },
  {
   "cell_type": "code",
   "execution_count": 9,
   "metadata": {},
   "outputs": [],
   "source": [
    "#Load HaarCascade for face\n",
    "#Source : https://github.com/opencv/opencv/tree/master/data/haarcascades\n",
    "face = cv2.CascadeClassifier('haarcascade_frontalface_default.xml')"
   ]
  },
  {
   "cell_type": "code",
   "execution_count": 10,
   "metadata": {},
   "outputs": [],
   "source": [
    "#Function to convert color image to grayscale\n",
    "def convertToGrayscale(frame):\n",
    "    gray = cv2.cvtColor(frame, cv2.COLOR_BGR2GRAY)\n",
    "    return gray"
   ]
  },
  {
   "cell_type": "code",
   "execution_count": 11,
   "metadata": {},
   "outputs": [],
   "source": [
    "#Face Detection\n",
    "def detect(gray, frame):\n",
    "    faces = face.detectMultiScale(gray, 1.3, 5)\n",
    "    for (x_coordinate, y_coordinate, width, height) in faces:\n",
    "        \n",
    "        #Draw rectangle over detected faces\n",
    "        cv2.rectangle(frame, (x_coordinate, y_coordinate), (x_coordinate+width, y_coordinate+height), (0,255,0), 2)\n",
    "        return frame"
   ]
  },
  {
   "cell_type": "code",
   "execution_count": 15,
   "metadata": {},
   "outputs": [],
   "source": [
    "#Read video from file\n",
    "video_input = cv2.VideoCapture('people.mp4')\n",
    "\n",
    "#Get the frame width and height for writing video back into file\n",
    "frame_width = int(video_input.get(3))\n",
    "frame_height = int(video_input.get(4))\n",
    "\n",
    "#Define codec and video writer\n",
    "out = cv2.VideoWriter('people_detected.mp4',cv2.VideoWriter_fourcc(*'MP4V'), 23.98, (frame_width,frame_height))\n",
    "\n",
    "#face detection if video is successfully loaded. If opening video fails it will display an error message.\n",
    "while(video_input.isOpened()):\n",
    "    \n",
    "    #Read frame\n",
    "    ret, frame = video_input.read()\n",
    "    \n",
    "    #Detection if frame successfully read\n",
    "    if ret:\n",
    "        gray = cv2.cvtColor(frame, cv2.COLOR_BGR2GRAY)\n",
    "        detected_frame = detect(gray, frame)\n",
    "        \n",
    "        #Displaying the output and writing video to file\n",
    "        if detected_frame is not None:\n",
    "            out.write(detected_frame)\n",
    "            cv2.imshow('Video', detected_frame)\n",
    "        else:\n",
    "            break\n",
    "    else:\n",
    "        print(\"Error reading from file!\")\n",
    "        \n",
    "    #Type 'q' anytime to quit\n",
    "    if cv2.waitKey(1) & 0xFF == ord('q'):\n",
    "        break\n",
    "else:\n",
    "    print(\"Error opening Video!\")\n",
    "    \n",
    "video_input.release()\n",
    "cv2.destroyAllWindows()"
   ]
  },
  {
   "cell_type": "code",
   "execution_count": null,
   "metadata": {},
   "outputs": [],
   "source": []
  }
 ],
 "metadata": {
  "kernelspec": {
   "display_name": "Python 3",
   "language": "python",
   "name": "python3"
  },
  "language_info": {
   "codemirror_mode": {
    "name": "ipython",
    "version": 3
   },
   "file_extension": ".py",
   "mimetype": "text/x-python",
   "name": "python",
   "nbconvert_exporter": "python",
   "pygments_lexer": "ipython3",
   "version": "3.5.4"
  }
 },
 "nbformat": 4,
 "nbformat_minor": 2
}
